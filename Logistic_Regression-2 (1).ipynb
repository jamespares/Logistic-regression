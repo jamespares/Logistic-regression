{
 "cells":[
  {
   "cell_type":"markdown",
   "source":[
    "## Logistic Regression"
   ],
   "attachments":{
    
   },
   "metadata":{
    "datalore":{
     "node_id":"d4w8L1JhcgypMrXfSj7z1p",
     "type":"MD",
     "hide_input_from_viewers":false,
     "hide_output_from_viewers":false,
     "report_properties":{
      "rowId":"jHePjtlpFqf6vHjaBBLrI2"
     }
    }
   }
  },
  {
   "cell_type":"code",
   "source":[
    "# importing libraries\n",
    "import numpy as np\n",
    "import pandas as pd\n",
    "import matplotlib.pyplot as plt\n",
    "from sklearn.datasets import load_iris\n",
    "from sklearn.model_selection import train_test_split\n",
    "from sklearn.linear_model import LogisticRegression\n",
    "from sklearn import preprocessing\n",
    "\n",
    "# importing the dataset\n",
    "iris = load_iris()\n",
    "data = pd.DataFrame(iris.data, columns=iris.feature_names)\n",
    "data['Species'] = iris.target\n",
    "data.head()"
   ],
   "execution_count":9,
   "outputs":[
    {
     "data":{
      "text\/html":[
       "<div>\n",
       "<style scoped>\n",
       "    .dataframe tbody tr th:only-of-type {\n",
       "        vertical-align: middle;\n",
       "    }\n",
       "\n",
       "    .dataframe tbody tr th {\n",
       "        vertical-align: top;\n",
       "    }\n",
       "\n",
       "    .dataframe thead th {\n",
       "        text-align: right;\n",
       "    }\n",
       "<\/style>\n",
       "<table border=\"1\" class=\"dataframe\">\n",
       "  <thead>\n",
       "    <tr style=\"text-align: right;\">\n",
       "      <th><\/th>\n",
       "      <th>sepal length (cm)<\/th>\n",
       "      <th>sepal width (cm)<\/th>\n",
       "      <th>petal length (cm)<\/th>\n",
       "      <th>petal width (cm)<\/th>\n",
       "      <th>Species<\/th>\n",
       "    <\/tr>\n",
       "  <\/thead>\n",
       "  <tbody>\n",
       "    <tr>\n",
       "      <th>0<\/th>\n",
       "      <td>5.1<\/td>\n",
       "      <td>3.5<\/td>\n",
       "      <td>1.4<\/td>\n",
       "      <td>0.2<\/td>\n",
       "      <td>0<\/td>\n",
       "    <\/tr>\n",
       "    <tr>\n",
       "      <th>1<\/th>\n",
       "      <td>4.9<\/td>\n",
       "      <td>3.0<\/td>\n",
       "      <td>1.4<\/td>\n",
       "      <td>0.2<\/td>\n",
       "      <td>0<\/td>\n",
       "    <\/tr>\n",
       "    <tr>\n",
       "      <th>2<\/th>\n",
       "      <td>4.7<\/td>\n",
       "      <td>3.2<\/td>\n",
       "      <td>1.3<\/td>\n",
       "      <td>0.2<\/td>\n",
       "      <td>0<\/td>\n",
       "    <\/tr>\n",
       "    <tr>\n",
       "      <th>3<\/th>\n",
       "      <td>4.6<\/td>\n",
       "      <td>3.1<\/td>\n",
       "      <td>1.5<\/td>\n",
       "      <td>0.2<\/td>\n",
       "      <td>0<\/td>\n",
       "    <\/tr>\n",
       "    <tr>\n",
       "      <th>4<\/th>\n",
       "      <td>5.0<\/td>\n",
       "      <td>3.6<\/td>\n",
       "      <td>1.4<\/td>\n",
       "      <td>0.2<\/td>\n",
       "      <td>0<\/td>\n",
       "    <\/tr>\n",
       "  <\/tbody>\n",
       "<\/table>\n",
       "<\/div>"
      ]
     },
     "metadata":{
      
     },
     "output_type":"display_data"
    }
   ],
   "metadata":{
    "datalore":{
     "node_id":"bwAEbJwugSY6C7qdA2LayU",
     "type":"CODE",
     "hide_input_from_viewers":false,
     "hide_output_from_viewers":false,
     "report_properties":{
      "rowId":"L7fXCSg22IKtUGjcFwqA1d"
     }
    }
   }
  },
  {
   "cell_type":"code",
   "source":[
    "X = data.iloc[:,[0,1,2,3]].values\n",
    "y = data.iloc[:,4].values\n",
    "\n",
    "X = X.reshape(-1, 4)\n",
    "X = preprocessing.scale(X) # scale the data so that it is easier to fit\n",
    "\n",
    "X_train, X_test, y_train, y_test = train_test_split(X, \n",
    "                y, test_size=0.25, random_state=0)\n"
   ],
   "execution_count":10,
   "outputs":[
    
   ],
   "metadata":{
    "datalore":{
     "node_id":"J0UBKkEOLYnaBms04VqiZW",
     "type":"CODE",
     "hide_input_from_viewers":false,
     "hide_output_from_viewers":false,
     "report_properties":{
      "rowId":"zYUvXCZZOOGEctxftUtXDO"
     }
    }
   }
  },
  {
   "cell_type":"code",
   "source":[
    "# fit a model\n",
    "log_reg = LogisticRegression()\n",
    "log_reg.fit(X_train, y_train)\n",
    "\n",
    "# make predictions on test data\n",
    "y_pred = log_reg.predict(X_test).reshape(-1,1)"
   ],
   "execution_count":11,
   "outputs":[
    
   ],
   "metadata":{
    "datalore":{
     "node_id":"7dJDsFwWRNlOwlp8Y6Rq0t",
     "type":"CODE",
     "hide_input_from_viewers":false,
     "hide_output_from_viewers":false,
     "report_properties":{
      "rowId":"LFoIogDwOsBFNWGJjl2f7Y"
     }
    }
   }
  },
  {
   "cell_type":"markdown",
   "source":[
    "### Measuring Model Performance"
   ],
   "attachments":{
    
   },
   "metadata":{
    "datalore":{
     "node_id":"vt3l1k1ZvIz6lgnZkWfssk",
     "type":"MD",
     "hide_input_from_viewers":false,
     "hide_output_from_viewers":false,
     "report_properties":{
      "rowId":"umg8FnI7tGBRtQZe0K7GYv"
     }
    }
   }
  },
  {
   "cell_type":"markdown",
   "source":[
    "To measure a model's performance, you want to get a sense of overall performance as well as performance for each class. Since the Iris dataset is totally balanced, accuracy is an appropriate measure of performance for the classification overall. An accuracy score is provided with the scikit-learn method as the 'score' attribute."
   ],
   "attachments":{
    
   },
   "metadata":{
    "datalore":{
     "node_id":"p4fXhYOnwI5QaTPCA0vWUJ",
     "type":"MD",
     "hide_input_from_viewers":false,
     "hide_output_from_viewers":false,
     "report_properties":{
      "rowId":"v9wAE5DWHtwei1E9zXeZul"
     }
    }
   }
  },
  {
   "cell_type":"code",
   "source":[
    "# use score method to get accuracy of model\n",
    "score = log_reg.score(X_test, y_test)\n",
    "\n",
    "print('Accuracy: {}'.format(score))"
   ],
   "execution_count":12,
   "outputs":[
    {
     "name":"stdout",
     "text":[
      "Accuracy: 0.9736842105263158\n"
     ],
     "output_type":"stream"
    }
   ],
   "metadata":{
    "datalore":{
     "node_id":"4yYOBpb4jOemiDHB52pXms",
     "type":"CODE",
     "hide_input_from_viewers":false,
     "hide_output_from_viewers":false,
     "report_properties":{
      "rowId":"orO5NYBG1q3qize6fZSpOe"
     }
    }
   }
  },
  {
   "cell_type":"markdown",
   "source":[
    "You can also check how the model did for different classes. The confusion matrix shows us that the model found instances of the species Versicolor the hardest to classify correctly.  "
   ],
   "attachments":{
    
   },
   "metadata":{
    "datalore":{
     "node_id":"IL4MHQu6HqasArVWai2TJs",
     "type":"MD",
     "hide_input_from_viewers":false,
     "hide_output_from_viewers":false,
     "report_properties":{
      "rowId":"FizC7HsXL7jv13lq7JRn5n"
     }
    }
   }
  },
  {
   "cell_type":"code",
   "source":[
    "from sklearn.metrics import confusion_matrix\n",
    "\n",
    "classes = list(iris.target_names)\n",
    "conf_mat = confusion_matrix(y_test, y_pred)\n",
    "cm_df = pd.DataFrame(conf_mat, columns=classes, index=classes)\n",
    "cm_df"
   ],
   "execution_count":13,
   "outputs":[
    {
     "data":{
      "text\/html":[
       "<div>\n",
       "<style scoped>\n",
       "    .dataframe tbody tr th:only-of-type {\n",
       "        vertical-align: middle;\n",
       "    }\n",
       "\n",
       "    .dataframe tbody tr th {\n",
       "        vertical-align: top;\n",
       "    }\n",
       "\n",
       "    .dataframe thead th {\n",
       "        text-align: right;\n",
       "    }\n",
       "<\/style>\n",
       "<table border=\"1\" class=\"dataframe\">\n",
       "  <thead>\n",
       "    <tr style=\"text-align: right;\">\n",
       "      <th><\/th>\n",
       "      <th>setosa<\/th>\n",
       "      <th>versicolor<\/th>\n",
       "      <th>virginica<\/th>\n",
       "    <\/tr>\n",
       "  <\/thead>\n",
       "  <tbody>\n",
       "    <tr>\n",
       "      <th>setosa<\/th>\n",
       "      <td>13<\/td>\n",
       "      <td>0<\/td>\n",
       "      <td>0<\/td>\n",
       "    <\/tr>\n",
       "    <tr>\n",
       "      <th>versicolor<\/th>\n",
       "      <td>0<\/td>\n",
       "      <td>15<\/td>\n",
       "      <td>1<\/td>\n",
       "    <\/tr>\n",
       "    <tr>\n",
       "      <th>virginica<\/th>\n",
       "      <td>0<\/td>\n",
       "      <td>0<\/td>\n",
       "      <td>9<\/td>\n",
       "    <\/tr>\n",
       "  <\/tbody>\n",
       "<\/table>\n",
       "<\/div>"
      ]
     },
     "metadata":{
      
     },
     "output_type":"display_data"
    }
   ],
   "metadata":{
    "datalore":{
     "node_id":"XZnG0rzA7CDNSyzowI1BgS",
     "type":"CODE",
     "hide_input_from_viewers":false,
     "hide_output_from_viewers":false,
     "report_properties":{
      "rowId":"AlR7c65Rste7ZNrHfpgGzN"
     }
    }
   }
  },
  {
   "cell_type":"markdown",
   "source":[
    "Looking at the confusion matrix is one way of inspecting performance in more detail. Looking at the f1 score,  \n",
    "precision and recall are another way. The imperfect average f1 score tells us not all instances were classified perfectly, and the per-class f1 scores tells us which classes were the most problematic. "
   ],
   "attachments":{
    
   },
   "metadata":{
    "datalore":{
     "node_id":"CXLq69WwuBDsvmAeTeKeL5",
     "type":"MD",
     "hide_input_from_viewers":false,
     "hide_output_from_viewers":false,
     "report_properties":{
      "rowId":"JSwGwcDgBZA4pONExFATN5"
     }
    }
   }
  },
  {
   "cell_type":"code",
   "source":[
    "from sklearn.metrics import f1_score, precision_score, recall_score\n",
    "\n",
    "# average f1 score\n",
    "av_f1 = f1_score(y_test, y_pred, average='micro')\n",
    "print(av_f1)\n",
    "\n",
    "# f1 score per class\n",
    "f = f1_score(y_test, y_pred, average=None)\n",
    "lowest_score = min(f)\n",
    "hardest_class = classes[list(f).index(lowest_score)]\n",
    "print('Hardest class:', hardest_class)"
   ],
   "execution_count":15,
   "outputs":[
    {
     "name":"stdout",
     "text":[
      "0.9736842105263158\n",
      "Hardest class: virginica\n"
     ],
     "output_type":"stream"
    }
   ],
   "metadata":{
    "datalore":{
     "node_id":"5w7h89xRWyfbM8XajHxVd5",
     "type":"CODE",
     "hide_input_from_viewers":false,
     "hide_output_from_viewers":false,
     "report_properties":{
      "rowId":"jZA0Lt8oIfP2jfLNpK6bd9"
     }
    }
   }
  },
  {
   "cell_type":"markdown",
   "source":[
    "The precision and recall for that species then tell us more. What what went wrong is that not the model was too strict about what instances could be considered Virginica, or perhaps mistook them for another class."
   ],
   "attachments":{
    
   },
   "metadata":{
    "datalore":{
     "node_id":"hiVW4OUowI8tXn8XNVBNlB",
     "type":"MD",
     "hide_input_from_viewers":false,
     "hide_output_from_viewers":false,
     "report_properties":{
      "rowId":"qQmfMHRSKXjoNmnfckGgKn"
     }
    }
   }
  },
  {
   "cell_type":"code",
   "source":[
    "# precision and recall for virginica  \n",
    "prec = precision_score(y_test == classes.index('virginica'), y_pred == classes.index('virginica'))\n",
    "rec = recall_score(y_test == classes.index('virginica'), y_pred == classes.index('virginica'))\n",
    "\n",
    "print('Precision:', prec)\n",
    "print('Recall:', rec)"
   ],
   "execution_count":16,
   "outputs":[
    {
     "name":"stdout",
     "text":[
      "Precision: 0.9\n",
      "Recall: 1.0\n"
     ],
     "output_type":"stream"
    }
   ],
   "metadata":{
    "datalore":{
     "node_id":"Wb64zdOyNwlrPCyDuyaIUK",
     "type":"CODE",
     "hide_input_from_viewers":false,
     "hide_output_from_viewers":false,
     "report_properties":{
      "rowId":"2vxfGs2rLl1vBf3sWi7Flx"
     }
    }
   }
  },
  {
   "cell_type":"markdown",
   "source":[
    "We could use this information to, for example, decide to collect more instances of this species."
   ],
   "attachments":{
    
   },
   "metadata":{
    "datalore":{
     "node_id":"LSbMOdKRCCSimzrabhnQsJ",
     "type":"MD",
     "hide_input_from_viewers":false,
     "hide_output_from_viewers":false,
     "report_properties":{
      "rowId":"1nU0qiUqBNNmxQsovbh093"
     }
    }
   }
  }
 ],
 "metadata":{
  "kernelspec":{
   "display_name":"Python",
   "language":"python",
   "name":"python"
  },
  "datalore":{
   "computation_mode":"JUPYTER",
   "package_manager":"pip",
   "base_environment":"default",
   "packages":[
    
   ],
   "report_row_ids":[
    "jHePjtlpFqf6vHjaBBLrI2",
    "L7fXCSg22IKtUGjcFwqA1d",
    "zYUvXCZZOOGEctxftUtXDO",
    "LFoIogDwOsBFNWGJjl2f7Y",
    "umg8FnI7tGBRtQZe0K7GYv",
    "v9wAE5DWHtwei1E9zXeZul",
    "orO5NYBG1q3qize6fZSpOe",
    "FizC7HsXL7jv13lq7JRn5n",
    "AlR7c65Rste7ZNrHfpgGzN",
    "JSwGwcDgBZA4pONExFATN5",
    "jZA0Lt8oIfP2jfLNpK6bd9",
    "qQmfMHRSKXjoNmnfckGgKn",
    "2vxfGs2rLl1vBf3sWi7Flx",
    "1nU0qiUqBNNmxQsovbh093"
   ],
   "version":3
  }
 },
 "nbformat":4,
 "nbformat_minor":4
}